{
 "cells": [
  {
   "cell_type": "markdown",
   "metadata": {},
   "source": [
    "# Chapter 6 Applied Exercises Linear model selection and regularisation"
   ]
  },
  {
   "cell_type": "code",
   "execution_count": 63,
   "metadata": {},
   "outputs": [],
   "source": [
    "import numpy as np\n",
    "import pandas as pd\n",
    "import matplotlib.pyplot as plt\n",
    "import seaborn as sns\n",
    "import statsmodels.api as sm\n",
    "import statsmodels.formula.api as smf\n",
    "import patsy\n",
    "import itertools\n",
    "from IPython.display import display, HTML\n",
    "from sklearn.model_selection import KFold\n",
    "from sklearn import linear_model\n",
    "from sklearn.preprocessing import scale\n",
    "from sklearn.decomposition import PCA\n",
    "from sklearn.model_selection import cross_val_score\n",
    "from sklearn.linear_model import LinearRegression\n",
    "from scipy import stats\n",
    "from sklearn.metrics import mean_squared_error\n",
    "import warnings\n",
    "warnings.filterwarnings('ignore')"
   ]
  },
  {
   "cell_type": "markdown",
   "metadata": {},
   "source": [
    "### 8. In this exercise, we will generate simulated data, and will then use this data to perform forward and backward stepwise selection."
   ]
  },
  {
   "cell_type": "markdown",
   "metadata": {},
   "source": [
    "#### (a) Create a random number generator and use its normal() method to generate a predictor X of length n = 100, as well as a noise vector $\\epsilon$ of length n = 100."
   ]
  },
  {
   "cell_type": "code",
   "execution_count": 64,
   "metadata": {},
   "outputs": [],
   "source": [
    "np.random.seed(1)\n",
    "x = np.random.normal(0,1,100)\n",
    "epsilon = np.random.normal(0,1,100)"
   ]
  },
  {
   "cell_type": "markdown",
   "metadata": {},
   "source": [
    "#### (b) Generate a response vector $Y$ of length n = 100 according to the model\n",
    "\n",
    "#### $Y = \\beta_0 + \\beta_1X + \\beta_2X^2 + \\beta_3X^3 + \\epsilon$\n",
    "\n",
    "#### where $\\beta_0$, $\\beta_1$, $\\beta_2$, and $\\beta_3$ are constants of your choice."
   ]
  },
  {
   "cell_type": "code",
   "execution_count": 65,
   "metadata": {},
   "outputs": [],
   "source": [
    "beta = [2,2,3,2.5]\n",
    "y_calc = beta[0] + beta[1]*x + beta[2]*(x**2) + beta[3]*(x**3) + epsilon"
   ]
  },
  {
   "cell_type": "code",
   "execution_count": 66,
   "metadata": {},
   "outputs": [
    {
     "data": {
      "text/plain": [
       "Text(0, 0.5, 'y-axis')"
      ]
     },
     "execution_count": 66,
     "metadata": {},
     "output_type": "execute_result"
    },
    {
     "data": {
      "image/png": "[encoded data removed]",
      "text/plain": [
       "<Figure size 640x480 with 1 Axes>"
      ]
     },
     "metadata": {},
     "output_type": "display_data"
    }
   ],
   "source": [
    "fig, ax = plt.subplots()\n",
    "ax.plot(x,y_calc, 'bo')\n",
    "ax.set_xlabel('x-axis')\n",
    "ax.set_ylabel('y-axis')"
   ]
  },
  {
   "cell_type": "markdown",
   "metadata": {},
   "source": [
    "#### (c) Use forward stepwise selection in order to select a model containing the predictors $X, X^2, X^3,...,$ $X$<sup>10</sup> What is the model obtained according to $C_p$? Report the coefficients of the model obtained."
   ]
  },
  {
   "cell_type": "code",
   "execution_count": 67,
   "metadata": {},
   "outputs": [
    {
     "name": "stdout",
     "output_type": "stream",
     "text": [
      "['X', 'X2', 'X3', 'X4', 'X5', 'X6', 'X7', 'X8', 'X9', 'X10']\n"
     ]
    }
   ],
   "source": [
    "# Lets first make a dataframe that contains the X and y variables\n",
    "# It is necessary to make a dataframe of all predictors so that we an pass it to statsmodels or some similar function\n",
    "X = pd.DataFrame({'X': x,\n",
    "                    'X2': x**2,\n",
    "                    'X3': x**3,\n",
    "                    'X4': x**4,\n",
    "                    'X5': x**5,\n",
    "                    'X6': x**6,\n",
    "                    'X7': x**7,\n",
    "                    'X8': x**8,\n",
    "                    'X9': x**9,\n",
    "                    'X10': x**10})\n",
    "y = pd.DataFrame({'y': y_calc})\n",
    "print(list(X.columns))"
   ]
  },
  {
   "cell_type": "markdown",
   "metadata": {},
   "source": [
    "#### I need a way to add predictors one by one so that I can pass it to the statsmodels function. "
   ]
  },
  {
   "cell_type": "code",
   "execution_count": 68,
   "metadata": {},
   "outputs": [
    {
     "name": "stdout",
     "output_type": "stream",
     "text": [
      "y ~ X\n",
      "y ~ X + X2\n",
      "y ~ X + X2 + X3\n",
      "y ~ X + X2 + X3 + X4\n",
      "y ~ X + X2 + X3 + X4 + X5\n",
      "y ~ X + X2 + X3 + X4 + X5 + X6\n",
      "y ~ X + X2 + X3 + X4 + X5 + X6 + X7\n",
      "y ~ X + X2 + X3 + X4 + X5 + X6 + X7 + X8\n",
      "y ~ X + X2 + X3 + X4 + X5 + X6 + X7 + X8 + X9\n",
      "y ~ X + X2 + X3 + X4 + X5 + X6 + X7 + X8 + X9 + X10\n"
     ]
    },
    {
     "data": {
      "text/plain": [
       "10"
      ]
     },
     "execution_count": 68,
     "metadata": {},
     "output_type": "execute_result"
    }
   ],
   "source": [
    "formulas_list = []\n",
    "y_name = y.columns[0]\n",
    "\n",
    "for i in range(1,X.shape[1]+1):\n",
    "    X_smf = ' + '.join(X.columns[0:i])\n",
    "    formula = '{} ~ {}'.format(y_name,X_smf)\n",
    "    print(formula)\n",
    "    formulas_list.append(formula)\n",
    "\n",
    "len(formulas_list)"
   ]
  },
  {
   "cell_type": "code",
   "execution_count": 69,
   "metadata": {},
   "outputs": [
    {
     "data": {
      "text/plain": [
       "'y ~ X + X2 + X3 + X4 + X5 + X6 + X7 + X8 + X9 + X10'"
      ]
     },
     "execution_count": 69,
     "metadata": {},
     "output_type": "execute_result"
    }
   ],
   "source": [
    "# Define a function which returns the formula to be passed to the statsmodel function\n",
    "def ols_formula(df, dependent_var, *excluded_cols):\n",
    "    \"\"\"Returns a formula in the form y ~ x1 + x2 +...+ xp that can be passed to the statsmodel function\"\"\"\n",
    "\n",
    "    df_columns = list(df.columns)\n",
    "    df_columns.remove(dependent_var)\n",
    "    for col in excluded_cols:\n",
    "        df_columns.remove(col)\n",
    "    return dependent_var + ' ~ ' + ' + '.join(df_columns)\n",
    "\n",
    "ols_formula(pd.concat([y,X]),'y')"
   ]
  },
  {
   "cell_type": "code",
   "execution_count": 70,
   "metadata": {},
   "outputs": [],
   "source": [
    "def forward_stepwise(X, y):\n",
    "    \"\"\"\n",
    "    Perform forward stepwise selection of all possible combinations of predictors and return all the metrics\n",
    "    \n",
    "    X: Dataframe with the predictors\n",
    "\n",
    "    y: Dataframe with the response variable\n",
    "\n",
    "    \"\"\"\n",
    "\n",
    "    # Get the y-predictor name\n",
    "    y_name = y.columns[0] # Get all the column names and take the first one. \n",
    "\n",
    "    # Start first predictor and add predictors in a forward stepwise manner. Store the result in a list\n",
    "    formulas_list = []\n",
    "    for i in range(1,X.shape[1]+1):\n",
    "        X_smf = ' + '.join(X.columns[0:i])\n",
    "        formula = '{} ~ {}'.format(y_name,X_smf)\n",
    "        formulas_list.append(formula)\n",
    "\n",
    "\n",
    "    # Loop throug all the models and fit\n",
    "    adjr2_list = []\n",
    "    bic_list = []\n",
    "    aic_list = []\n",
    "    params_list = []\n",
    "    for i in range(len(formulas_list)):\n",
    "        model = smf.ols(formula=formulas_list[i], data=pd.concat([X,y], axis=1)).fit()\n",
    "\n",
    "        # Make predictions\n",
    "        y_pred = model.predict(X)\n",
    "\n",
    "        # Get the adjusted R-squared, BIC, and AIC metrics. \n",
    "        adjr2 = round(model.rsquared_adj,5)\n",
    "        bic = round(model.bic,5)\n",
    "        aic = round(model.aic,5)\n",
    "        params = round(model.params,5)\n",
    "        \n",
    "        adjr2_list.append(adjr2)\n",
    "        bic_list.append(bic)\n",
    "        aic_list.append(aic)\n",
    "        params_list.append(params)\n",
    "\n",
    "    # Add everything into a dataframe\n",
    "    # Columns\n",
    "    result_dict = {'Model' : formulas_list,\n",
    "                'Adjusted R-squared' : adjr2_list,\n",
    "                'BIC' : bic_list,\n",
    "                'AIC' : aic_list}\n",
    "\n",
    "    results = pd.DataFrame(result_dict, index=np.arange(X.shape[1]))\n",
    "    return (results, params_list)"
   ]
  },
  {
   "cell_type": "code",
   "execution_count": 71,
   "metadata": {},
   "outputs": [
    {
     "data": {
      "text/html": [
       "<div>\n",
       "<style scoped>\n",
       "    .dataframe tbody tr th:only-of-type {\n",
       "        vertical-align: middle;\n",
       "    }\n",
       "\n",
       "    .dataframe tbody tr th {\n",
       "        vertical-align: top;\n",
       "    }\n",
       "\n",
       "    .dataframe thead th {\n",
       "        text-align: right;\n",
       "    }\n",
       "</style>\n",
       "<table border=\"1\" class=\"dataframe\">\n",
       "  <thead>\n",
       "    <tr style=\"text-align: right;\">\n",
       "      <th></th>\n",
       "      <th>Model</th>\n",
       "      <th>Adjusted R-squared</th>\n",
       "      <th>BIC</th>\n",
       "      <th>AIC</th>\n",
       "    </tr>\n",
       "  </thead>\n",
       "  <tbody>\n",
       "    <tr>\n",
       "      <th>0</th>\n",
       "      <td>y ~ X</td>\n",
       "      <td>0.69217</td>\n",
       "      <td>610.48633</td>\n",
       "      <td>605.27599</td>\n",
       "    </tr>\n",
       "    <tr>\n",
       "      <th>1</th>\n",
       "      <td>y ~ X + X2</td>\n",
       "      <td>0.80718</td>\n",
       "      <td>567.28663</td>\n",
       "      <td>559.47112</td>\n",
       "    </tr>\n",
       "    <tr>\n",
       "      <th>2</th>\n",
       "      <td>y ~ X + X2 + X3</td>\n",
       "      <td>0.98886</td>\n",
       "      <td>285.73456</td>\n",
       "      <td>275.31388</td>\n",
       "    </tr>\n",
       "    <tr>\n",
       "      <th>3</th>\n",
       "      <td>y ~ X + X2 + X3 + X4</td>\n",
       "      <td>0.98940</td>\n",
       "      <td>284.27639</td>\n",
       "      <td>271.25054</td>\n",
       "    </tr>\n",
       "    <tr>\n",
       "      <th>4</th>\n",
       "      <td>y ~ X + X2 + X3 + X4 + X5</td>\n",
       "      <td>0.98929</td>\n",
       "      <td>288.88155</td>\n",
       "      <td>273.25053</td>\n",
       "    </tr>\n",
       "    <tr>\n",
       "      <th>5</th>\n",
       "      <td>y ~ X + X2 + X3 + X4 + X5 + X6</td>\n",
       "      <td>0.98919</td>\n",
       "      <td>293.41095</td>\n",
       "      <td>275.17475</td>\n",
       "    </tr>\n",
       "    <tr>\n",
       "      <th>6</th>\n",
       "      <td>y ~ X + X2 + X3 + X4 + X5 + X6 + X7</td>\n",
       "      <td>0.98907</td>\n",
       "      <td>298.01263</td>\n",
       "      <td>277.17127</td>\n",
       "    </tr>\n",
       "    <tr>\n",
       "      <th>7</th>\n",
       "      <td>y ~ X + X2 + X3 + X4 + X5 + X6 + X7 + X8</td>\n",
       "      <td>0.98913</td>\n",
       "      <td>300.98557</td>\n",
       "      <td>277.53904</td>\n",
       "    </tr>\n",
       "    <tr>\n",
       "      <th>8</th>\n",
       "      <td>y ~ X + X2 + X3 + X4 + X5 + X6 + X7 + X8 + X9</td>\n",
       "      <td>0.98923</td>\n",
       "      <td>303.50967</td>\n",
       "      <td>277.45797</td>\n",
       "    </tr>\n",
       "    <tr>\n",
       "      <th>9</th>\n",
       "      <td>y ~ X + X2 + X3 + X4 + X5 + X6 + X7 + X8 + X9 ...</td>\n",
       "      <td>0.98916</td>\n",
       "      <td>307.65418</td>\n",
       "      <td>278.99731</td>\n",
       "    </tr>\n",
       "  </tbody>\n",
       "</table>\n",
       "</div>"
      ],
      "text/plain": [
       "                                               Model  Adjusted R-squared  \\\n",
       "0                                              y ~ X             0.69217   \n",
       "1                                         y ~ X + X2             0.80718   \n",
       "2                                    y ~ X + X2 + X3             0.98886   \n",
       "3                               y ~ X + X2 + X3 + X4             0.98940   \n",
       "4                          y ~ X + X2 + X3 + X4 + X5             0.98929   \n",
       "5                     y ~ X + X2 + X3 + X4 + X5 + X6             0.98919   \n",
       "6                y ~ X + X2 + X3 + X4 + X5 + X6 + X7             0.98907   \n",
       "7           y ~ X + X2 + X3 + X4 + X5 + X6 + X7 + X8             0.98913   \n",
       "8      y ~ X + X2 + X3 + X4 + X5 + X6 + X7 + X8 + X9             0.98923   \n",
       "9  y ~ X + X2 + X3 + X4 + X5 + X6 + X7 + X8 + X9 ...             0.98916   \n",
       "\n",
       "         BIC        AIC  \n",
       "0  610.48633  605.27599  \n",
       "1  567.28663  559.47112  \n",
       "2  285.73456  275.31388  \n",
       "3  284.27639  271.25054  \n",
       "4  288.88155  273.25053  \n",
       "5  293.41095  275.17475  \n",
       "6  298.01263  277.17127  \n",
       "7  300.98557  277.53904  \n",
       "8  303.50967  277.45797  \n",
       "9  307.65418  278.99731  "
      ]
     },
     "execution_count": 71,
     "metadata": {},
     "output_type": "execute_result"
    }
   ],
   "source": [
    "fwd_step_result = forward_stepwise(X,y)[0]\n",
    "fwd_step_result"
   ]
  },
  {
   "cell_type": "markdown",
   "metadata": {},
   "source": [
    "#### For the forward stepwise algorithm, the model with the highest adjusted $R^2$ value is:"
   ]
  },
  {
   "cell_type": "code",
   "execution_count": 101,
   "metadata": {},
   "outputs": [
    {
     "data": {
      "text/html": [
       "<div>\n",
       "<style scoped>\n",
       "    .dataframe tbody tr th:only-of-type {\n",
       "        vertical-align: middle;\n",
       "    }\n",
       "\n",
       "    .dataframe tbody tr th {\n",
       "        vertical-align: top;\n",
       "    }\n",
       "\n",
       "    .dataframe thead th {\n",
       "        text-align: right;\n",
       "    }\n",
       "</style>\n",
       "<table border=\"1\" class=\"dataframe\">\n",
       "  <thead>\n",
       "    <tr style=\"text-align: right;\">\n",
       "      <th></th>\n",
       "      <th>Model</th>\n",
       "      <th>Adjusted R-squared</th>\n",
       "      <th>BIC</th>\n",
       "      <th>AIC</th>\n",
       "    </tr>\n",
       "  </thead>\n",
       "  <tbody>\n",
       "    <tr>\n",
       "      <th>3</th>\n",
       "      <td>y ~ X + X2 + X3 + X4</td>\n",
       "      <td>0.9894</td>\n",
       "      <td>284.27639</td>\n",
       "      <td>271.25054</td>\n",
       "    </tr>\n",
       "  </tbody>\n",
       "</table>\n",
       "</div>"
      ],
      "text/plain": [
       "                  Model  Adjusted R-squared        BIC        AIC\n",
       "3  y ~ X + X2 + X3 + X4              0.9894  284.27639  271.25054"
      ]
     },
     "execution_count": 101,
     "metadata": {},
     "output_type": "execute_result"
    }
   ],
   "source": [
    "fwd_step_result[fwd_step_result['Adjusted R-squared'] == fwd_step_result['Adjusted R-squared'].max()]"
   ]
  },
  {
   "cell_type": "markdown",
   "metadata": {},
   "source": [
    "#### For the forward stepwise algorithm, the model with the lowest BIC value is:"
   ]
  },
  {
   "cell_type": "code",
   "execution_count": 103,
   "metadata": {},
   "outputs": [
    {
     "data": {
      "text/html": [
       "<div>\n",
       "<style scoped>\n",
       "    .dataframe tbody tr th:only-of-type {\n",
       "        vertical-align: middle;\n",
       "    }\n",
       "\n",
       "    .dataframe tbody tr th {\n",
       "        vertical-align: top;\n",
       "    }\n",
       "\n",
       "    .dataframe thead th {\n",
       "        text-align: right;\n",
       "    }\n",
       "</style>\n",
       "<table border=\"1\" class=\"dataframe\">\n",
       "  <thead>\n",
       "    <tr style=\"text-align: right;\">\n",
       "      <th></th>\n",
       "      <th>Model</th>\n",
       "      <th>Adjusted R-squared</th>\n",
       "      <th>BIC</th>\n",
       "      <th>AIC</th>\n",
       "    </tr>\n",
       "  </thead>\n",
       "  <tbody>\n",
       "    <tr>\n",
       "      <th>3</th>\n",
       "      <td>y ~ X + X2 + X3 + X4</td>\n",
       "      <td>0.9894</td>\n",
       "      <td>284.27639</td>\n",
       "      <td>271.25054</td>\n",
       "    </tr>\n",
       "  </tbody>\n",
       "</table>\n",
       "</div>"
      ],
      "text/plain": [
       "                  Model  Adjusted R-squared        BIC        AIC\n",
       "3  y ~ X + X2 + X3 + X4              0.9894  284.27639  271.25054"
      ]
     },
     "execution_count": 103,
     "metadata": {},
     "output_type": "execute_result"
    }
   ],
   "source": [
    "fwd_step_result[fwd_step_result['BIC'] == fwd_step_result['BIC'].min()]"
   ]
  },
  {
   "cell_type": "markdown",
   "metadata": {},
   "source": [
    "#### For the forward stepwise algorithm, the model with the lowest AIC value is:"
   ]
  },
  {
   "cell_type": "code",
   "execution_count": 104,
   "metadata": {},
   "outputs": [
    {
     "data": {
      "text/html": [
       "<div>\n",
       "<style scoped>\n",
       "    .dataframe tbody tr th:only-of-type {\n",
       "        vertical-align: middle;\n",
       "    }\n",
       "\n",
       "    .dataframe tbody tr th {\n",
       "        vertical-align: top;\n",
       "    }\n",
       "\n",
       "    .dataframe thead th {\n",
       "        text-align: right;\n",
       "    }\n",
       "</style>\n",
       "<table border=\"1\" class=\"dataframe\">\n",
       "  <thead>\n",
       "    <tr style=\"text-align: right;\">\n",
       "      <th></th>\n",
       "      <th>Model</th>\n",
       "      <th>Adjusted R-squared</th>\n",
       "      <th>BIC</th>\n",
       "      <th>AIC</th>\n",
       "    </tr>\n",
       "  </thead>\n",
       "  <tbody>\n",
       "    <tr>\n",
       "      <th>3</th>\n",
       "      <td>y ~ X + X2 + X3 + X4</td>\n",
       "      <td>0.9894</td>\n",
       "      <td>284.27639</td>\n",
       "      <td>271.25054</td>\n",
       "    </tr>\n",
       "  </tbody>\n",
       "</table>\n",
       "</div>"
      ],
      "text/plain": [
       "                  Model  Adjusted R-squared        BIC        AIC\n",
       "3  y ~ X + X2 + X3 + X4              0.9894  284.27639  271.25054"
      ]
     },
     "execution_count": 104,
     "metadata": {},
     "output_type": "execute_result"
    }
   ],
   "source": [
    "fwd_step_result[fwd_step_result['AIC'] == fwd_step_result['AIC'].min()]"
   ]
  },
  {
   "cell_type": "markdown",
   "metadata": {},
   "source": [
    "#### The coefficients for this model are:"
   ]
  },
  {
   "cell_type": "code",
   "execution_count": 75,
   "metadata": {},
   "outputs": [
    {
     "data": {
      "text/plain": [
       "Intercept    2.31398\n",
       "X            1.91273\n",
       "X2           2.45552\n",
       "X3           2.59918\n",
       "X4           0.13936\n",
       "dtype: float64"
      ]
     },
     "execution_count": 75,
     "metadata": {},
     "output_type": "execute_result"
    }
   ],
   "source": [
    "forward_stepwise(X,y)[1][np.argmin(fwd_step_result['AIC'])]"
   ]
  },
  {
   "cell_type": "markdown",
   "metadata": {},
   "source": [
    "#### Recall that the actual coefficients were chosen as:"
   ]
  },
  {
   "cell_type": "code",
   "execution_count": 76,
   "metadata": {},
   "outputs": [
    {
     "data": {
      "text/plain": [
       "[2, 2, 3, 2.5]"
      ]
     },
     "execution_count": 76,
     "metadata": {},
     "output_type": "execute_result"
    }
   ],
   "source": [
    "beta"
   ]
  },
  {
   "cell_type": "markdown",
   "metadata": {},
   "source": [
    "**Note**: We can see that the models with the highest $R^2$, lowest BIC and AIC all include an additional term $X^4$, which is an unnessary predictor. The coefficients are relatively accurately predicted. It would be interesting to see if the best subset selection method yields more accurate results. "
   ]
  },
  {
   "cell_type": "markdown",
   "metadata": {},
   "source": [
    "#### (d) Repeat (c), using backwards stepwise selection. How does your answer compare to the results in (c)?"
   ]
  },
  {
   "cell_type": "code",
   "execution_count": 77,
   "metadata": {},
   "outputs": [
    {
     "name": "stdout",
     "output_type": "stream",
     "text": [
      "y ~ X + X2 + X3 + X4 + X5 + X6 + X7 + X8 + X9 + X10\n",
      "y ~ X + X2 + X3 + X4 + X5 + X6 + X7 + X8 + X9 + X10\n",
      "y ~ X + X2 + X3 + X4 + X5 + X6 + X7 + X8 + X9\n",
      "y ~ X + X2 + X3 + X4 + X5 + X6 + X7 + X8\n",
      "y ~ X + X2 + X3 + X4 + X5 + X6 + X7\n",
      "y ~ X + X2 + X3 + X4 + X5 + X6\n",
      "y ~ X + X2 + X3 + X4 + X5\n",
      "y ~ X + X2 + X3 + X4\n",
      "y ~ X + X2 + X3\n",
      "y ~ X + X2\n",
      "y ~ X\n"
     ]
    }
   ],
   "source": [
    "for i in range(X.shape[1]+1,0,-1):\n",
    "    X_smf = ' + '.join(X.columns[0:i])\n",
    "    formula = '{} ~ {}'.format(y_name,X_smf)\n",
    "    print(formula)"
   ]
  },
  {
   "cell_type": "code",
   "execution_count": 78,
   "metadata": {},
   "outputs": [],
   "source": [
    "def backward_stepwise(X, y):\n",
    "    \"\"\"\n",
    "    Perform backward stepwise selection of all possible combinations of predictors and return all the metrics\n",
    "    \n",
    "    X: Dataframe with the predictors\n",
    "\n",
    "    y: Dataframe with the response variable\n",
    "\n",
    "    \"\"\"\n",
    "\n",
    "    # Get the y-predictor name\n",
    "    y_name = y.columns[0] # Get all the column names and take the first one. \n",
    "\n",
    "    # Start with all the predictors and remove predictors in a backward stepwise manner. Store the result in a list\n",
    "    formulas_list = []\n",
    "    for i in range(X.shape[1],0,-1):\n",
    "        X_smf = ' + '.join(X.columns[0:i])\n",
    "        formula = '{} ~ {}'.format(y_name,X_smf)\n",
    "        formulas_list.append(formula)\n",
    "    \n",
    "    # Loop throug all the models and fit\n",
    "    adjr2_list = []\n",
    "    bic_list = []\n",
    "    aic_list = []\n",
    "    params_list = []\n",
    "    for i in range(len(formulas_list)):\n",
    "        model = smf.ols(formula=formulas_list[i], data=pd.concat([X,y], axis=1)).fit()\n",
    "\n",
    "        # Make predictions\n",
    "        y_pred = model.predict(X)\n",
    "\n",
    "        # Get the adjusted R-squared, BIC, and AIC metrics. \n",
    "        adjr2 = round(model.rsquared_adj,5)\n",
    "        bic = round(model.bic,5)\n",
    "        aic = round(model.aic,5)\n",
    "        params = round(model.params,5)\n",
    "        \n",
    "        adjr2_list.append(adjr2)\n",
    "        bic_list.append(bic)\n",
    "        aic_list.append(aic)\n",
    "        params_list.append(params)\n",
    "\n",
    "    # Add everything into a dataframe\n",
    "    # Columns\n",
    "    result_dict = {'Model' : formulas_list,\n",
    "                'Adjusted R-squared' : adjr2_list,\n",
    "                'BIC' : bic_list,\n",
    "                'AIC' : aic_list}\n",
    "\n",
    "    results = pd.DataFrame(result_dict, index=np.arange(X.shape[1]))\n",
    "    return (results, params_list)"
   ]
  },
  {
   "cell_type": "code",
   "execution_count": 79,
   "metadata": {},
   "outputs": [
    {
     "data": {
      "text/html": [
       "<div>\n",
       "<style scoped>\n",
       "    .dataframe tbody tr th:only-of-type {\n",
       "        vertical-align: middle;\n",
       "    }\n",
       "\n",
       "    .dataframe tbody tr th {\n",
       "        vertical-align: top;\n",
       "    }\n",
       "\n",
       "    .dataframe thead th {\n",
       "        text-align: right;\n",
       "    }\n",
       "</style>\n",
       "<table border=\"1\" class=\"dataframe\">\n",
       "  <thead>\n",
       "    <tr style=\"text-align: right;\">\n",
       "      <th></th>\n",
       "      <th>Model</th>\n",
       "      <th>Adjusted R-squared</th>\n",
       "      <th>BIC</th>\n",
       "      <th>AIC</th>\n",
       "    </tr>\n",
       "  </thead>\n",
       "  <tbody>\n",
       "    <tr>\n",
       "      <th>0</th>\n",
       "      <td>y ~ X + X2 + X3 + X4 + X5 + X6 + X7 + X8 + X9 ...</td>\n",
       "      <td>0.98916</td>\n",
       "      <td>307.65418</td>\n",
       "      <td>278.99731</td>\n",
       "    </tr>\n",
       "    <tr>\n",
       "      <th>1</th>\n",
       "      <td>y ~ X + X2 + X3 + X4 + X5 + X6 + X7 + X8 + X9</td>\n",
       "      <td>0.98923</td>\n",
       "      <td>303.50967</td>\n",
       "      <td>277.45797</td>\n",
       "    </tr>\n",
       "    <tr>\n",
       "      <th>2</th>\n",
       "      <td>y ~ X + X2 + X3 + X4 + X5 + X6 + X7 + X8</td>\n",
       "      <td>0.98913</td>\n",
       "      <td>300.98557</td>\n",
       "      <td>277.53904</td>\n",
       "    </tr>\n",
       "    <tr>\n",
       "      <th>3</th>\n",
       "      <td>y ~ X + X2 + X3 + X4 + X5 + X6 + X7</td>\n",
       "      <td>0.98907</td>\n",
       "      <td>298.01263</td>\n",
       "      <td>277.17127</td>\n",
       "    </tr>\n",
       "    <tr>\n",
       "      <th>4</th>\n",
       "      <td>y ~ X + X2 + X3 + X4 + X5 + X6</td>\n",
       "      <td>0.98919</td>\n",
       "      <td>293.41095</td>\n",
       "      <td>275.17475</td>\n",
       "    </tr>\n",
       "    <tr>\n",
       "      <th>5</th>\n",
       "      <td>y ~ X + X2 + X3 + X4 + X5</td>\n",
       "      <td>0.98929</td>\n",
       "      <td>288.88155</td>\n",
       "      <td>273.25053</td>\n",
       "    </tr>\n",
       "    <tr>\n",
       "      <th>6</th>\n",
       "      <td>y ~ X + X2 + X3 + X4</td>\n",
       "      <td>0.98940</td>\n",
       "      <td>284.27639</td>\n",
       "      <td>271.25054</td>\n",
       "    </tr>\n",
       "    <tr>\n",
       "      <th>7</th>\n",
       "      <td>y ~ X + X2 + X3</td>\n",
       "      <td>0.98886</td>\n",
       "      <td>285.73456</td>\n",
       "      <td>275.31388</td>\n",
       "    </tr>\n",
       "    <tr>\n",
       "      <th>8</th>\n",
       "      <td>y ~ X + X2</td>\n",
       "      <td>0.80718</td>\n",
       "      <td>567.28663</td>\n",
       "      <td>559.47112</td>\n",
       "    </tr>\n",
       "    <tr>\n",
       "      <th>9</th>\n",
       "      <td>y ~ X</td>\n",
       "      <td>0.69217</td>\n",
       "      <td>610.48633</td>\n",
       "      <td>605.27599</td>\n",
       "    </tr>\n",
       "  </tbody>\n",
       "</table>\n",
       "</div>"
      ],
      "text/plain": [
       "                                               Model  Adjusted R-squared  \\\n",
       "0  y ~ X + X2 + X3 + X4 + X5 + X6 + X7 + X8 + X9 ...             0.98916   \n",
       "1      y ~ X + X2 + X3 + X4 + X5 + X6 + X7 + X8 + X9             0.98923   \n",
       "2           y ~ X + X2 + X3 + X4 + X5 + X6 + X7 + X8             0.98913   \n",
       "3                y ~ X + X2 + X3 + X4 + X5 + X6 + X7             0.98907   \n",
       "4                     y ~ X + X2 + X3 + X4 + X5 + X6             0.98919   \n",
       "5                          y ~ X + X2 + X3 + X4 + X5             0.98929   \n",
       "6                               y ~ X + X2 + X3 + X4             0.98940   \n",
       "7                                    y ~ X + X2 + X3             0.98886   \n",
       "8                                         y ~ X + X2             0.80718   \n",
       "9                                              y ~ X             0.69217   \n",
       "\n",
       "         BIC        AIC  \n",
       "0  307.65418  278.99731  \n",
       "1  303.50967  277.45797  \n",
       "2  300.98557  277.53904  \n",
       "3  298.01263  277.17127  \n",
       "4  293.41095  275.17475  \n",
       "5  288.88155  273.25053  \n",
       "6  284.27639  271.25054  \n",
       "7  285.73456  275.31388  \n",
       "8  567.28663  559.47112  \n",
       "9  610.48633  605.27599  "
      ]
     },
     "execution_count": 79,
     "metadata": {},
     "output_type": "execute_result"
    }
   ],
   "source": [
    "back_step_result = backward_stepwise(X,y)[0]\n",
    "back_step_result"
   ]
  },
  {
   "cell_type": "markdown",
   "metadata": {},
   "source": [
    "#### For the backward stepwise algorithm, the model with the highest adjusted $R^2$ value is:"
   ]
  },
  {
   "cell_type": "code",
   "execution_count": 80,
   "metadata": {},
   "outputs": [
    {
     "data": {
      "text/plain": [
       "'y ~ X + X2 + X3 + X4 + X5 + X6 + X7'"
      ]
     },
     "execution_count": 80,
     "metadata": {},
     "output_type": "execute_result"
    }
   ],
   "source": [
    "back_step_result['Model'].iloc[np.argmax(fwd_step_result['Adjusted R-squared'])]"
   ]
  },
  {
   "cell_type": "markdown",
   "metadata": {},
   "source": [
    "#### For the backward stepwise algorithm, the model with the lowest BIC value is:"
   ]
  },
  {
   "cell_type": "code",
   "execution_count": 81,
   "metadata": {},
   "outputs": [
    {
     "data": {
      "text/plain": [
       "'y ~ X + X2 + X3 + X4'"
      ]
     },
     "execution_count": 81,
     "metadata": {},
     "output_type": "execute_result"
    }
   ],
   "source": [
    "back_step_result['Model'].iloc[np.argmin(back_step_result['BIC'])]"
   ]
  },
  {
   "cell_type": "markdown",
   "metadata": {},
   "source": [
    "#### For the forward stepwise algorithm, the model with the lowest AIC value is:"
   ]
  },
  {
   "cell_type": "code",
   "execution_count": 82,
   "metadata": {},
   "outputs": [
    {
     "data": {
      "text/plain": [
       "'y ~ X + X2 + X3 + X4'"
      ]
     },
     "execution_count": 82,
     "metadata": {},
     "output_type": "execute_result"
    }
   ],
   "source": [
    "back_step_result['Model'].iloc[np.argmin(back_step_result['AIC'])]"
   ]
  },
  {
   "cell_type": "markdown",
   "metadata": {},
   "source": [
    "#### The coefficients for this model are:"
   ]
  },
  {
   "cell_type": "code",
   "execution_count": 83,
   "metadata": {},
   "outputs": [
    {
     "data": {
      "text/plain": [
       "Intercept    2.31398\n",
       "X            1.91273\n",
       "X2           2.45552\n",
       "X3           2.59918\n",
       "X4           0.13936\n",
       "dtype: float64"
      ]
     },
     "execution_count": 83,
     "metadata": {},
     "output_type": "execute_result"
    }
   ],
   "source": [
    "backward_stepwise(X,y)[1][np.argmin(back_step_result['AIC'])]"
   ]
  },
  {
   "cell_type": "markdown",
   "metadata": {},
   "source": [
    "Very similar results compared to forward stepwise, except for the $R^2$ method. I'm not quite sure why. The coefficients are also similar. "
   ]
  },
  {
   "cell_type": "markdown",
   "metadata": {},
   "source": [
    "### (e) Now fit a lasso model to the simulated data, again using $X, X^2, X^3,...,$ $X$<sup>10</sup> as predictors. Use cross-validation to select the optimal value of λ. Create plots of the cross-validation error as a function of λ. Report the resulting coeicient estimates, and discuss the results obtained."
   ]
  },
  {
   "cell_type": "code",
   "execution_count": 84,
   "metadata": {},
   "outputs": [],
   "source": [
    "def mse(y_hat, y):\n",
    "    \"\"\"Calculate Mean Squared Error\"\"\"\n",
    "    return np.sum(np.square(y_hat - y)) / y.size\n",
    "\n",
    "def lasso_cv(X, y, λ, k):\n",
    "    \"\"\"Perform the lasso with \n",
    "    k-fold cross validation to return mean MSE scores for each fold\"\"\"\n",
    "    # Split dataset into k-folds\n",
    "    # Note: np.array_split doesn't raise excpetion is folds are unequal in size\n",
    "    X_folds = np.array_split(X, k)\n",
    "    y_folds = np.array_split(y, k)\n",
    "    \n",
    "    MSEs = []\n",
    "    for f in np.arange(len(X_folds)):\n",
    "        # Create training and test sets\n",
    "        X_test  = X_folds[f]\n",
    "        y_test  = y_folds[f]\n",
    "        X_train = X.drop(X_folds[f].index)\n",
    "        y_train = y.drop(y_folds[f].index)\n",
    "        \n",
    "        # Fit model\n",
    "        model = linear_model.Lasso(alpha=λ, fit_intercept=True, normalize=False, max_iter=1000000).fit(X_train, y_train)\n",
    "\n",
    "        # Measure MSE\n",
    "        y_hat = model.predict(X_test)\n",
    "        MSEs += [mean_squared_error(y_test, y_hat)]\n",
    "    return MSEs"
   ]
  },
  {
   "cell_type": "code",
   "execution_count": 85,
   "metadata": {},
   "outputs": [
    {
     "data": {
      "text/plain": [
       "<Axes: xlabel='λ', ylabel='MSE'>"
      ]
     },
     "execution_count": 85,
     "metadata": {},
     "output_type": "execute_result"
    },
    {
     "data": {
      "image/png": "[encoded data removed]",
      "text/plain": [
       "<Figure size 640x480 with 1 Axes>"
      ]
     },
     "metadata": {},
     "output_type": "display_data"
    }
   ],
   "source": [
    "lambdas = np.arange(0.01, 1, 0.01)\n",
    "MSEs    = [] \n",
    "for l in lambdas:\n",
    "    MSEs += [round(np.mean(lasso_cv(X, y, λ=l, k=10)),2)]\n",
    "\n",
    "sns.scatterplot(x='λ', y='MSE', data=pd.DataFrame({'λ': lambdas, 'MSE': MSEs}))"
   ]
  },
  {
   "cell_type": "markdown",
   "metadata": {},
   "source": [
    "### The minimum MSE and $\\lambda$ is:"
   ]
  },
  {
   "cell_type": "code",
   "execution_count": 86,
   "metadata": {},
   "outputs": [
    {
     "data": {
      "text/plain": [
       "(1.81, 0.19)"
      ]
     },
     "execution_count": 86,
     "metadata": {},
     "output_type": "execute_result"
    }
   ],
   "source": [
    "min(zip(MSEs, lambdas))"
   ]
  },
  {
   "cell_type": "markdown",
   "metadata": {},
   "source": [
    "#### Now that we have the $\\lambda$ value, we can compute the coefficients. "
   ]
  },
  {
   "cell_type": "code",
   "execution_count": 87,
   "metadata": {},
   "outputs": [],
   "source": [
    "# Assign the lambda value at the lowest MSE\n",
    "lambda_min_MSE = min(zip(MSEs, lambdas))[1]\n",
    "\n",
    "# Set up the model\n",
    "model = linear_model.Lasso(alpha=lambda_min_MSE, fit_intercept=True, normalize=False, max_iter=100000).fit(X,y)\n",
    "\n",
    "# Create a dataframe with the coefficients and features\n",
    "df_lasso = pd.DataFrame({'Predictor' : X.columns, 'Coefficient' : model.coef_})\n",
    "\n",
    "# Make predictions\n",
    "y_pred = model.predict(X)\n"
   ]
  },
  {
   "cell_type": "code",
   "execution_count": 88,
   "metadata": {},
   "outputs": [
    {
     "data": {
      "text/html": [
       "<div>\n",
       "<style scoped>\n",
       "    .dataframe tbody tr th:only-of-type {\n",
       "        vertical-align: middle;\n",
       "    }\n",
       "\n",
       "    .dataframe tbody tr th {\n",
       "        vertical-align: top;\n",
       "    }\n",
       "\n",
       "    .dataframe thead th {\n",
       "        text-align: right;\n",
       "    }\n",
       "</style>\n",
       "<table border=\"1\" class=\"dataframe\">\n",
       "  <thead>\n",
       "    <tr style=\"text-align: right;\">\n",
       "      <th></th>\n",
       "      <th>Predictor</th>\n",
       "      <th>Coefficient</th>\n",
       "    </tr>\n",
       "  </thead>\n",
       "  <tbody>\n",
       "    <tr>\n",
       "      <th>0</th>\n",
       "      <td>X</td>\n",
       "      <td>1.823572</td>\n",
       "    </tr>\n",
       "    <tr>\n",
       "      <th>1</th>\n",
       "      <td>X2</td>\n",
       "      <td>0.454881</td>\n",
       "    </tr>\n",
       "    <tr>\n",
       "      <th>2</th>\n",
       "      <td>X3</td>\n",
       "      <td>1.802128</td>\n",
       "    </tr>\n",
       "    <tr>\n",
       "      <th>3</th>\n",
       "      <td>X4</td>\n",
       "      <td>0.847043</td>\n",
       "    </tr>\n",
       "    <tr>\n",
       "      <th>4</th>\n",
       "      <td>X5</td>\n",
       "      <td>0.373082</td>\n",
       "    </tr>\n",
       "    <tr>\n",
       "      <th>5</th>\n",
       "      <td>X6</td>\n",
       "      <td>0.000000</td>\n",
       "    </tr>\n",
       "    <tr>\n",
       "      <th>6</th>\n",
       "      <td>X7</td>\n",
       "      <td>0.000000</td>\n",
       "    </tr>\n",
       "    <tr>\n",
       "      <th>7</th>\n",
       "      <td>X8</td>\n",
       "      <td>-0.000000</td>\n",
       "    </tr>\n",
       "    <tr>\n",
       "      <th>8</th>\n",
       "      <td>X9</td>\n",
       "      <td>-0.009186</td>\n",
       "    </tr>\n",
       "    <tr>\n",
       "      <th>9</th>\n",
       "      <td>X10</td>\n",
       "      <td>-0.002988</td>\n",
       "    </tr>\n",
       "  </tbody>\n",
       "</table>\n",
       "</div>"
      ],
      "text/plain": [
       "  Predictor  Coefficient\n",
       "0         X     1.823572\n",
       "1        X2     0.454881\n",
       "2        X3     1.802128\n",
       "3        X4     0.847043\n",
       "4        X5     0.373082\n",
       "5        X6     0.000000\n",
       "6        X7     0.000000\n",
       "7        X8    -0.000000\n",
       "8        X9    -0.009186\n",
       "9       X10    -0.002988"
      ]
     },
     "execution_count": 88,
     "metadata": {},
     "output_type": "execute_result"
    }
   ],
   "source": [
    "df_lasso"
   ]
  },
  {
   "cell_type": "markdown",
   "metadata": {},
   "source": [
    "The Lasso method \"pushes\" some of the unnessary predictors towards zero. But, it still adds some predictors that are not needed... "
   ]
  },
  {
   "cell_type": "code",
   "execution_count": 89,
   "metadata": {},
   "outputs": [
    {
     "data": {
      "text/plain": [
       "<matplotlib.legend.Legend at 0x228adbf1ed0>"
      ]
     },
     "execution_count": 89,
     "metadata": {},
     "output_type": "execute_result"
    },
    {
     "data": {
      "image/png": "[encoded data removed]",
      "text/plain": [
       "<Figure size 640x480 with 1 Axes>"
      ]
     },
     "metadata": {},
     "output_type": "display_data"
    }
   ],
   "source": [
    "fig, ax = plt.subplots()\n",
    "ax.plot(x, y, 'bo')\n",
    "ax.plot(x, y_pred, 'ro')\n",
    "ax.set_xlabel('x-axis')\n",
    "ax.set_ylabel('y-axis')\n",
    "ax.legend(['Actual', 'Predicted'])"
   ]
  },
  {
   "cell_type": "markdown",
   "metadata": {},
   "source": [
    "#### (f) Now generate a response vector $Y$ according to the model\n",
    "\n",
    "#### $Y = \\beta_0 + \\beta_7X^7 + \\epsilon$ \n",
    "\n",
    "#### and perform forward stepwise selection and the lasso. Discuss the results obtained."
   ]
  },
  {
   "cell_type": "code",
   "execution_count": 130,
   "metadata": {},
   "outputs": [
    {
     "data": {
      "text/plain": [
       "[<matplotlib.lines.Line2D at 0x228b938d550>]"
      ]
     },
     "execution_count": 130,
     "metadata": {},
     "output_type": "execute_result"
    },
    {
     "data": {
      "image/png": "[encoded data removed]",
      "text/plain": [
       "<Figure size 640x480 with 1 Axes>"
      ]
     },
     "metadata": {},
     "output_type": "display_data"
    }
   ],
   "source": [
    "# Choose beta values\n",
    "beta_f = [5, 1.2]\n",
    "\n",
    "np.random.seed(1)\n",
    "x = np.random.normal(0,1,100)\n",
    "epsilon = np.random.normal(0,1,100)\n",
    "\n",
    "# Generate y-values\n",
    "y_calc = beta_f[0] + beta_f[1]*(x**7) + epsilon\n",
    "\n",
    "# Generate a dataframe\n",
    "y = pd.DataFrame({'y':y_calc})\n",
    "\n",
    "fig, ax = plt.subplots()\n",
    "ax.plot(x,y,'bo')"
   ]
  },
  {
   "cell_type": "markdown",
   "metadata": {},
   "source": [
    "#### Forward stepwise selection"
   ]
  },
  {
   "cell_type": "code",
   "execution_count": 131,
   "metadata": {},
   "outputs": [
    {
     "data": {
      "text/html": [
       "<div>\n",
       "<style scoped>\n",
       "    .dataframe tbody tr th:only-of-type {\n",
       "        vertical-align: middle;\n",
       "    }\n",
       "\n",
       "    .dataframe tbody tr th {\n",
       "        vertical-align: top;\n",
       "    }\n",
       "\n",
       "    .dataframe thead th {\n",
       "        text-align: right;\n",
       "    }\n",
       "</style>\n",
       "<table border=\"1\" class=\"dataframe\">\n",
       "  <thead>\n",
       "    <tr style=\"text-align: right;\">\n",
       "      <th></th>\n",
       "      <th>Model</th>\n",
       "      <th>Adjusted R-squared</th>\n",
       "      <th>BIC</th>\n",
       "      <th>AIC</th>\n",
       "    </tr>\n",
       "  </thead>\n",
       "  <tbody>\n",
       "    <tr>\n",
       "      <th>0</th>\n",
       "      <td>y ~ X</td>\n",
       "      <td>0.34827</td>\n",
       "      <td>1071.31717</td>\n",
       "      <td>1066.10682</td>\n",
       "    </tr>\n",
       "    <tr>\n",
       "      <th>1</th>\n",
       "      <td>y ~ X + X2</td>\n",
       "      <td>0.36819</td>\n",
       "      <td>1071.79352</td>\n",
       "      <td>1063.97801</td>\n",
       "    </tr>\n",
       "    <tr>\n",
       "      <th>2</th>\n",
       "      <td>y ~ X + X2 + X3</td>\n",
       "      <td>0.91896</td>\n",
       "      <td>869.99208</td>\n",
       "      <td>859.57140</td>\n",
       "    </tr>\n",
       "    <tr>\n",
       "      <th>3</th>\n",
       "      <td>y ~ X + X2 + X3 + X4</td>\n",
       "      <td>0.91816</td>\n",
       "      <td>874.53333</td>\n",
       "      <td>861.50747</td>\n",
       "    </tr>\n",
       "    <tr>\n",
       "      <th>4</th>\n",
       "      <td>y ~ X + X2 + X3 + X4 + X5</td>\n",
       "      <td>0.99729</td>\n",
       "      <td>537.12387</td>\n",
       "      <td>521.49285</td>\n",
       "    </tr>\n",
       "    <tr>\n",
       "      <th>5</th>\n",
       "      <td>y ~ X + X2 + X3 + X4 + X5 + X6</td>\n",
       "      <td>0.99750</td>\n",
       "      <td>532.74910</td>\n",
       "      <td>514.51291</td>\n",
       "    </tr>\n",
       "    <tr>\n",
       "      <th>6</th>\n",
       "      <td>y ~ X + X2 + X3 + X4 + X5 + X6 + X7</td>\n",
       "      <td>0.99977</td>\n",
       "      <td>298.01263</td>\n",
       "      <td>277.17127</td>\n",
       "    </tr>\n",
       "    <tr>\n",
       "      <th>7</th>\n",
       "      <td>y ~ X + X2 + X3 + X4 + X5 + X6 + X7 + X8</td>\n",
       "      <td>0.99977</td>\n",
       "      <td>300.98557</td>\n",
       "      <td>277.53904</td>\n",
       "    </tr>\n",
       "    <tr>\n",
       "      <th>8</th>\n",
       "      <td>y ~ X + X2 + X3 + X4 + X5 + X6 + X7 + X8 + X9</td>\n",
       "      <td>0.99977</td>\n",
       "      <td>303.50967</td>\n",
       "      <td>277.45797</td>\n",
       "    </tr>\n",
       "    <tr>\n",
       "      <th>9</th>\n",
       "      <td>y ~ X + X2 + X3 + X4 + X5 + X6 + X7 + X8 + X9 ...</td>\n",
       "      <td>0.99977</td>\n",
       "      <td>307.65418</td>\n",
       "      <td>278.99731</td>\n",
       "    </tr>\n",
       "  </tbody>\n",
       "</table>\n",
       "</div>"
      ],
      "text/plain": [
       "                                               Model  Adjusted R-squared  \\\n",
       "0                                              y ~ X             0.34827   \n",
       "1                                         y ~ X + X2             0.36819   \n",
       "2                                    y ~ X + X2 + X3             0.91896   \n",
       "3                               y ~ X + X2 + X3 + X4             0.91816   \n",
       "4                          y ~ X + X2 + X3 + X4 + X5             0.99729   \n",
       "5                     y ~ X + X2 + X3 + X4 + X5 + X6             0.99750   \n",
       "6                y ~ X + X2 + X3 + X4 + X5 + X6 + X7             0.99977   \n",
       "7           y ~ X + X2 + X3 + X4 + X5 + X6 + X7 + X8             0.99977   \n",
       "8      y ~ X + X2 + X3 + X4 + X5 + X6 + X7 + X8 + X9             0.99977   \n",
       "9  y ~ X + X2 + X3 + X4 + X5 + X6 + X7 + X8 + X9 ...             0.99977   \n",
       "\n",
       "          BIC         AIC  \n",
       "0  1071.31717  1066.10682  \n",
       "1  1071.79352  1063.97801  \n",
       "2   869.99208   859.57140  \n",
       "3   874.53333   861.50747  \n",
       "4   537.12387   521.49285  \n",
       "5   532.74910   514.51291  \n",
       "6   298.01263   277.17127  \n",
       "7   300.98557   277.53904  \n",
       "8   303.50967   277.45797  \n",
       "9   307.65418   278.99731  "
      ]
     },
     "execution_count": 131,
     "metadata": {},
     "output_type": "execute_result"
    }
   ],
   "source": [
    "fwd_step_result_f = forward_stepwise(X,y)[0]\n",
    "fwd_step_result_f"
   ]
  },
  {
   "cell_type": "code",
   "execution_count": 132,
   "metadata": {},
   "outputs": [
    {
     "data": {
      "text/html": [
       "<div>\n",
       "<style scoped>\n",
       "    .dataframe tbody tr th:only-of-type {\n",
       "        vertical-align: middle;\n",
       "    }\n",
       "\n",
       "    .dataframe tbody tr th {\n",
       "        vertical-align: top;\n",
       "    }\n",
       "\n",
       "    .dataframe thead th {\n",
       "        text-align: right;\n",
       "    }\n",
       "</style>\n",
       "<table border=\"1\" class=\"dataframe\">\n",
       "  <thead>\n",
       "    <tr style=\"text-align: right;\">\n",
       "      <th></th>\n",
       "      <th>Model</th>\n",
       "      <th>Adjusted R-squared</th>\n",
       "      <th>BIC</th>\n",
       "      <th>AIC</th>\n",
       "    </tr>\n",
       "  </thead>\n",
       "  <tbody>\n",
       "    <tr>\n",
       "      <th>6</th>\n",
       "      <td>y ~ X + X2 + X3 + X4 + X5 + X6 + X7</td>\n",
       "      <td>0.99977</td>\n",
       "      <td>298.01263</td>\n",
       "      <td>277.17127</td>\n",
       "    </tr>\n",
       "  </tbody>\n",
       "</table>\n",
       "</div>"
      ],
      "text/plain": [
       "                                 Model  Adjusted R-squared        BIC  \\\n",
       "6  y ~ X + X2 + X3 + X4 + X5 + X6 + X7             0.99977  298.01263   \n",
       "\n",
       "         AIC  \n",
       "6  277.17127  "
      ]
     },
     "execution_count": 132,
     "metadata": {},
     "output_type": "execute_result"
    }
   ],
   "source": [
    "fwd_step_result_f[fwd_step_result_f['AIC'] == fwd_step_result_f['AIC'].min()]"
   ]
  },
  {
   "cell_type": "code",
   "execution_count": 133,
   "metadata": {},
   "outputs": [
    {
     "data": {
      "text/plain": [
       "Intercept    5.29405\n",
       "X           -0.10214\n",
       "X2          -0.43096\n",
       "X3           0.13604\n",
       "X4           0.05780\n",
       "X5          -0.01702\n",
       "X6           0.01261\n",
       "X7           1.20225\n",
       "dtype: float64"
      ]
     },
     "execution_count": 133,
     "metadata": {},
     "output_type": "execute_result"
    }
   ],
   "source": [
    "forward_stepwise(X,y)[1][np.argmin(fwd_step_result_f['AIC'])]"
   ]
  },
  {
   "cell_type": "markdown",
   "metadata": {},
   "source": [
    "#### Lasso"
   ]
  },
  {
   "cell_type": "code",
   "execution_count": 137,
   "metadata": {},
   "outputs": [
    {
     "data": {
      "text/plain": [
       "<Axes: xlabel='λ', ylabel='MSE'>"
      ]
     },
     "execution_count": 137,
     "metadata": {},
     "output_type": "execute_result"
    },
    {
     "data": {
      "image/png": "[encoded data removed]",
      "text/plain": [
       "<Figure size 640x480 with 1 Axes>"
      ]
     },
     "metadata": {},
     "output_type": "display_data"
    }
   ],
   "source": [
    "lambdas = np.arange(0.01, 1, 0.01)\n",
    "MSEs    = []\n",
    "for l in lambdas:\n",
    "    MSEs += [round(np.mean(lasso_cv(X, y, λ=l, k=10)),2)]\n",
    "\n",
    "sns.scatterplot(x='λ', y='MSE', data=pd.DataFrame({'λ': lambdas, 'MSE': MSEs}))"
   ]
  },
  {
   "cell_type": "markdown",
   "metadata": {},
   "source": [
    "The lowest MSE and $\\lambda$ values are:"
   ]
  },
  {
   "cell_type": "code",
   "execution_count": 138,
   "metadata": {},
   "outputs": [
    {
     "data": {
      "text/plain": [
       "(0.87, 0.18000000000000002)"
      ]
     },
     "execution_count": 138,
     "metadata": {},
     "output_type": "execute_result"
    }
   ],
   "source": [
    "min(zip(MSEs, lambdas))"
   ]
  },
  {
   "cell_type": "code",
   "execution_count": 139,
   "metadata": {},
   "outputs": [],
   "source": [
    "# Assign the lambda value at the lowest MSE\n",
    "lambda_min_MSE = min(zip(MSEs, lambdas))[1]\n",
    "\n",
    "# Set up the model\n",
    "model = linear_model.Lasso(alpha=lambda_min_MSE, fit_intercept=True, normalize=False, max_iter=100000).fit(X,y)\n",
    "\n",
    "# Create a dataframe with the coefficients and features\n",
    "df_lasso = pd.DataFrame({'Predictor' : X.columns, 'Coefficient' : model.coef_})\n",
    "\n",
    "# Make predictions\n",
    "y_pred = model.predict(X)"
   ]
  },
  {
   "cell_type": "code",
   "execution_count": 140,
   "metadata": {},
   "outputs": [
    {
     "data": {
      "text/html": [
       "<div>\n",
       "<style scoped>\n",
       "    .dataframe tbody tr th:only-of-type {\n",
       "        vertical-align: middle;\n",
       "    }\n",
       "\n",
       "    .dataframe tbody tr th {\n",
       "        vertical-align: top;\n",
       "    }\n",
       "\n",
       "    .dataframe thead th {\n",
       "        text-align: right;\n",
       "    }\n",
       "</style>\n",
       "<table border=\"1\" class=\"dataframe\">\n",
       "  <thead>\n",
       "    <tr style=\"text-align: right;\">\n",
       "      <th></th>\n",
       "      <th>Predictor</th>\n",
       "      <th>Coefficient</th>\n",
       "    </tr>\n",
       "  </thead>\n",
       "  <tbody>\n",
       "    <tr>\n",
       "      <th>0</th>\n",
       "      <td>X</td>\n",
       "      <td>0.000000</td>\n",
       "    </tr>\n",
       "    <tr>\n",
       "      <th>1</th>\n",
       "      <td>X2</td>\n",
       "      <td>-0.000000</td>\n",
       "    </tr>\n",
       "    <tr>\n",
       "      <th>2</th>\n",
       "      <td>X3</td>\n",
       "      <td>0.000000</td>\n",
       "    </tr>\n",
       "    <tr>\n",
       "      <th>3</th>\n",
       "      <td>X4</td>\n",
       "      <td>-0.000000</td>\n",
       "    </tr>\n",
       "    <tr>\n",
       "      <th>4</th>\n",
       "      <td>X5</td>\n",
       "      <td>0.000000</td>\n",
       "    </tr>\n",
       "    <tr>\n",
       "      <th>5</th>\n",
       "      <td>X6</td>\n",
       "      <td>-0.006550</td>\n",
       "    </tr>\n",
       "    <tr>\n",
       "      <th>6</th>\n",
       "      <td>X7</td>\n",
       "      <td>1.193585</td>\n",
       "    </tr>\n",
       "    <tr>\n",
       "      <th>7</th>\n",
       "      <td>X8</td>\n",
       "      <td>-0.000000</td>\n",
       "    </tr>\n",
       "    <tr>\n",
       "      <th>8</th>\n",
       "      <td>X9</td>\n",
       "      <td>0.002149</td>\n",
       "    </tr>\n",
       "    <tr>\n",
       "      <th>9</th>\n",
       "      <td>X10</td>\n",
       "      <td>0.000641</td>\n",
       "    </tr>\n",
       "  </tbody>\n",
       "</table>\n",
       "</div>"
      ],
      "text/plain": [
       "  Predictor  Coefficient\n",
       "0         X     0.000000\n",
       "1        X2    -0.000000\n",
       "2        X3     0.000000\n",
       "3        X4    -0.000000\n",
       "4        X5     0.000000\n",
       "5        X6    -0.006550\n",
       "6        X7     1.193585\n",
       "7        X8    -0.000000\n",
       "8        X9     0.002149\n",
       "9       X10     0.000641"
      ]
     },
     "execution_count": 140,
     "metadata": {},
     "output_type": "execute_result"
    }
   ],
   "source": [
    "df_lasso"
   ]
  },
  {
   "cell_type": "code",
   "execution_count": 141,
   "metadata": {},
   "outputs": [
    {
     "data": {
      "text/plain": [
       "<matplotlib.legend.Legend at 0x228b9323210>"
      ]
     },
     "execution_count": 141,
     "metadata": {},
     "output_type": "execute_result"
    },
    {
     "data": {
      "image/png": "[encoded data removed]",
      "text/plain": [
       "<Figure size 640x480 with 1 Axes>"
      ]
     },
     "metadata": {},
     "output_type": "display_data"
    }
   ],
   "source": [
    "fig, ax = plt.subplots()\n",
    "ax.plot(x, y, 'bo')\n",
    "ax.plot(x, y_pred, 'ro')\n",
    "ax.set_xlabel('x-axis')\n",
    "ax.set_ylabel('y-axis')\n",
    "ax.legend(['Actual', 'Predicted'])"
   ]
  },
  {
   "cell_type": "markdown",
   "metadata": {},
   "source": [
    "The Lasso is actually very good! It forces many of the unnecessary coefficients to zero. "
   ]
  },
  {
   "cell_type": "markdown",
   "metadata": {},
   "source": []
  }
 ],
 "metadata": {
  "kernelspec": {
   "display_name": "base",
   "language": "python",
   "name": "python3"
  },
  "language_info": {
   "codemirror_mode": {
    "name": "ipython",
    "version": 3
   },
   "file_extension": ".py",
   "mimetype": "text/x-python",
   "name": "python",
   "nbconvert_exporter": "python",
   "pygments_lexer": "ipython3",
   "version": "3.11.7"
  }
 },
 "nbformat": 4,
 "nbformat_minor": 2
}
